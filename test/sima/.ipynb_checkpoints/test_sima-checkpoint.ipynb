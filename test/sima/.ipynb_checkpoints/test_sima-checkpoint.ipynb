{
 "cells": [
  {
   "cell_type": "code",
   "execution_count": 1,
   "metadata": {
    "collapsed": true
   },
   "outputs": [],
   "source": [
    "#! /usr/bin/env python\n",
    "\"\"\"\n",
    "This file provides a demonstration of how to use the SIMA package.\n",
    "\n",
    "In order to run this file, you will need to download the file\n",
    "http://www.losonczylab.org/workflow_data.zip and extract it in your\n",
    "current working directory.\n",
    "\n",
    "\"\"\"\n",
    "from __future__ import print_function\n",
    "from builtins import input\n",
    "from builtins import range\n",
    "\n",
    "import os\n",
    "import shutil\n",
    "\n",
    "##############################################################################\n",
    "#                                                                            #\n",
    "#   PART 0: Import SIMA and necessary submodules.                            #\n",
    "#                                                                            #\n",
    "##############################################################################\n",
    "\n",
    "import sima\n",
    "import sima.motion\n",
    "import sima.segment\n"
   ]
  },
  {
   "cell_type": "code",
   "execution_count": 7,
   "metadata": {
    "collapsed": false
   },
   "outputs": [
    {
     "name": "stdout",
     "output_type": "stream",
     "text": [
      "TIFF filenames:\n",
      " [['/nas/volume1/2photon/RESDATA/20161221_JR030W/retinotopy037Hz/test_sima/fov1_bar037Hz_run4_00003.tif #1.tif', '/nas/volume1/2photon/RESDATA/20161221_JR030W/retinotopy037Hz/test_sima/fov1_bar037Hz_run4_00003.tif #2.tif'], ['/nas/volume1/2photon/RESDATA/20161221_JR030W/retinotopy037Hz/test_sima/fov1_bar037Hz_run4_00004.tif #1.tif', '/nas/volume1/2photon/RESDATA/20161221_JR030W/retinotopy037Hz/test_sima/fov1_bar037Hz_run4_00004.tif #2.tif'], ['/nas/volume1/2photon/RESDATA/20161221_JR030W/retinotopy037Hz/test_sima/fov1_bar037Hz_run4_00005.tif #1.tif', '/nas/volume1/2photon/RESDATA/20161221_JR030W/retinotopy037Hz/test_sima/fov1_bar037Hz_run4_00005.tif #2.tif']]\n"
     ]
    }
   ],
   "source": [
    "##############################################################################\n",
    "#                                                                            #\n",
    "#   PART 1: Preparing the iterables.                                         #\n",
    "#                                                                            #\n",
    "##############################################################################\n",
    "\n",
    "# Generate the filenames with Python list comprehensions.\n",
    "source_dir = '/nas/volume1/2photon/RESDATA/20161221_JR030W/retinotopy037Hz/test_sima'\n",
    "acquisition = 'fov1_bar037Hz_run4'\n",
    "tiff_filenames = [\n",
    "    ['{source}/{n0}_{n1:05d}.tif #{n2}.tif'.format(source=source_dir, n0=acquisition, n1=cycle, n2=channel)\n",
    "     for channel in range(1, 3)] for cycle in range(3,6)\n",
    "]\n",
    "\n",
    "# The resulting filenames are printed for clarification.\n",
    "print(\"TIFF filenames:\\n\", tiff_filenames)\n",
    "\n",
    "\n",
    "# Finally, we construct a MultiPageTIFF iterable using each of the filenames.\n",
    "sequences = [\n",
    "    sima.Sequence.join(*[sima.Sequence.create('TIFF', chan) for chan in cycle])\n",
    "    for cycle in tiff_filenames]\n"
   ]
  },
  {
   "cell_type": "code",
   "execution_count": 10,
   "metadata": {
    "collapsed": true
   },
   "outputs": [],
   "source": [
    "dataset = sima.ImagingDataset(sequences, 'sequences.sima')"
   ]
  },
  {
   "cell_type": "code",
   "execution_count": 8,
   "metadata": {
    "collapsed": false
   },
   "outputs": [
    {
     "name": "stdout",
     "output_type": "stream",
     "text": [
      "Running motion correction.\n",
      "Estimating model parameters.\n",
      "Estimating displacements for cycle  0\n",
      "Estimating displacements for cycle  1\n",
      "Estimating displacements for cycle  2\n",
      "Exporting motion-corrected time averages.\n",
      "Output filenames:\n",
      " [[['/nas/volume1/2photon/RESDATA/20161221_JR030W/retinotopy037Hz/test_sima/fov1_bar037Hz_run4_00003_corrected.tif #1_corrected.tif', '/nas/volume1/2photon/RESDATA/20161221_JR030W/retinotopy037Hz/test_sima/fov1_bar037Hz_run4_00003_corrected.tif #2_corrected.tif']], [['/nas/volume1/2photon/RESDATA/20161221_JR030W/retinotopy037Hz/test_sima/fov1_bar037Hz_run4_00004_corrected.tif #1_corrected.tif', '/nas/volume1/2photon/RESDATA/20161221_JR030W/retinotopy037Hz/test_sima/fov1_bar037Hz_run4_00004_corrected.tif #2_corrected.tif']], [['/nas/volume1/2photon/RESDATA/20161221_JR030W/retinotopy037Hz/test_sima/fov1_bar037Hz_run4_00005_corrected.tif #1_corrected.tif', '/nas/volume1/2photon/RESDATA/20161221_JR030W/retinotopy037Hz/test_sima/fov1_bar037Hz_run4_00005_corrected.tif #2_corrected.tif']]]\n",
      "Exporting motion-corrected movies.\n",
      "Continue? (y/n): "
     ]
    },
    {
     "ename": "EOFError",
     "evalue": "EOF when reading a line",
     "output_type": "error",
     "traceback": [
      "\u001b[0;31m--------------------------------------------------------------\u001b[0m",
      "\u001b[0;31mEOFError\u001b[0m                     Traceback (most recent call last)",
      "\u001b[0;32m<ipython-input-8-d6b45619652c>\u001b[0m in \u001b[0;36m<module>\u001b[0;34m()\u001b[0m\n\u001b[1;32m     45\u001b[0m \u001b[0;31m# the quality of the motion correction before continuing.\u001b[0m\u001b[0;34m\u001b[0m\u001b[0;34m\u001b[0m\u001b[0m\n\u001b[1;32m     46\u001b[0m \u001b[0;32mwhile\u001b[0m \u001b[0mTrue\u001b[0m\u001b[0;34m:\u001b[0m\u001b[0;34m\u001b[0m\u001b[0m\n\u001b[0;32m---> 47\u001b[0;31m     \u001b[0minput_\u001b[0m \u001b[0;34m=\u001b[0m \u001b[0minput\u001b[0m\u001b[0;34m(\u001b[0m\u001b[0;34m\"Continue? (y/n): \"\u001b[0m\u001b[0;34m)\u001b[0m\u001b[0;34m\u001b[0m\u001b[0m\n\u001b[0m\u001b[1;32m     48\u001b[0m     \u001b[0;32mif\u001b[0m \u001b[0minput_\u001b[0m \u001b[0;34m==\u001b[0m \u001b[0;34m'n'\u001b[0m\u001b[0;34m:\u001b[0m\u001b[0;34m\u001b[0m\u001b[0m\n\u001b[1;32m     49\u001b[0m         \u001b[0mexit\u001b[0m\u001b[0;34m(\u001b[0m\u001b[0;34m)\u001b[0m\u001b[0;34m\u001b[0m\u001b[0m\n",
      "\u001b[0;31mEOFError\u001b[0m: EOF when reading a line"
     ]
    }
   ],
   "source": [
    "##############################################################################\n",
    "#                                                                            #\n",
    "#   PART 2: Running motion correction to create the dataset, and exporting   #\n",
    "#           the corrected image data.                                        #\n",
    "#                                                                            #\n",
    "##############################################################################\n",
    "\n",
    "dataset_path = '{source}/dataset_{acq}.sima'.format(source=source_dir, acq=acquisition)\n",
    "correction_approach = sima.motion.HiddenMarkov2D(num_states_retained=30,\n",
    "                                                 max_displacement=[20, 30])\n",
    "\n",
    "if os.path.exists(dataset_path):\n",
    "    while True:\n",
    "        input_ = input(\"Dataset path already exists. Overwrite? (y/n) \")\n",
    "        if input_ == 'n':\n",
    "            exit()\n",
    "        elif input_ == 'y':\n",
    "            shutil.rmtree(dataset_path)\n",
    "            break\n",
    "\n",
    "print(\"Running motion correction.\")\n",
    "dataset = correction_approach.correct(\n",
    "    sequences, dataset_path, channel_names=['GCaMP', 'SR101'],\n",
    "    trim_criterion=0.95)\n",
    "\n",
    "# Export the time averages for a manuscript figure.\n",
    "print(\"Exporting motion-corrected time averages.\")\n",
    "dataset.export_averages(['workflow_data/GCaMP.tif',\n",
    "                         'workflow_data/SR101.tif'])\n",
    "\n",
    "# Generate the output filenames with Python list comprehensions.\n",
    "output_filenames = [\n",
    "    [[channel.replace('.tif', '_corrected.tif') for channel in cycle]]\n",
    "    for cycle in tiff_filenames\n",
    "]\n",
    "\n",
    "# The resulting filenames are printed for clarification.\n",
    "print(\"Output filenames:\\n\", output_filenames)\n",
    "\n",
    "# Export the corrected frames for a presentation.\n",
    "print(\"Exporting motion-corrected movies.\")\n",
    "dataset.export_frames(output_filenames, fill_gaps=True)\n",
    "\n",
    "# At this point, one may wish to inspect the exported image data to evaluate\n",
    "# the quality of the motion correction before continuing.\n",
    "while True:\n",
    "#     input_ = input(\"Continue? (y/n): \")\n",
    "    input_='y';\n",
    "    if input_ == 'n':\n",
    "        exit()\n",
    "    elif input_ == 'y':\n",
    "        break"
   ]
  },
  {
   "cell_type": "code",
   "execution_count": 9,
   "metadata": {
    "collapsed": true
   },
   "outputs": [],
   "source": [
    "dataset.export_frames(output_filenames, fill_gaps=True)"
   ]
  },
  {
   "cell_type": "code",
   "execution_count": 11,
   "metadata": {
    "collapsed": false
   },
   "outputs": [
    {
     "name": "stdout",
     "output_type": "stream",
     "text": [
      "Running auto-segmentation.\n"
     ]
    },
    {
     "ename": "ValueError",
     "evalue": "No channel exists with the specified name.",
     "output_type": "error",
     "traceback": [
      "\u001b[0;31m--------------------------------------------------------------\u001b[0m",
      "\u001b[0;31mValueError\u001b[0m                   Traceback (most recent call last)",
      "\u001b[0;32m<ipython-input-11-33c884a0c768>\u001b[0m in \u001b[0;36m<module>\u001b[0;34m()\u001b[0m\n\u001b[1;32m     24\u001b[0m \u001b[0;34m\u001b[0m\u001b[0m\n\u001b[1;32m     25\u001b[0m \u001b[0;32mprint\u001b[0m\u001b[0;34m(\u001b[0m\u001b[0;34m\"Running auto-segmentation.\"\u001b[0m\u001b[0;34m)\u001b[0m\u001b[0;34m\u001b[0m\u001b[0m\n\u001b[0;32m---> 26\u001b[0;31m \u001b[0mdataset\u001b[0m\u001b[0;34m.\u001b[0m\u001b[0msegment\u001b[0m\u001b[0;34m(\u001b[0m\u001b[0msegmentation_approach\u001b[0m\u001b[0;34m,\u001b[0m \u001b[0;34m'auto_ROIs'\u001b[0m\u001b[0;34m)\u001b[0m\u001b[0;34m\u001b[0m\u001b[0m\n\u001b[0m\u001b[1;32m     27\u001b[0m \u001b[0;34m\u001b[0m\u001b[0m\n\u001b[1;32m     28\u001b[0m \u001b[0;31m# At this point, one may wish to edit the automatically segmented ROIs using\u001b[0m\u001b[0;34m\u001b[0m\u001b[0;34m\u001b[0m\u001b[0m\n",
      "\u001b[0;32m/home/julianarhee/.local/lib/python2.7/site-packages/sima/imaging.pyc\u001b[0m in \u001b[0;36msegment\u001b[0;34m(self, strategy, label, planes)\u001b[0m\n\u001b[1;32m    903\u001b[0m         \"\"\"\n\u001b[1;32m    904\u001b[0m \u001b[0;34m\u001b[0m\u001b[0m\n\u001b[0;32m--> 905\u001b[0;31m         \u001b[0mrois\u001b[0m \u001b[0;34m=\u001b[0m \u001b[0mstrategy\u001b[0m\u001b[0;34m.\u001b[0m\u001b[0msegment\u001b[0m\u001b[0;34m(\u001b[0m\u001b[0mself\u001b[0m\u001b[0;34m)\u001b[0m\u001b[0;34m\u001b[0m\u001b[0m\n\u001b[0m\u001b[1;32m    906\u001b[0m         \u001b[0;32mif\u001b[0m \u001b[0mself\u001b[0m\u001b[0;34m.\u001b[0m\u001b[0msavedir\u001b[0m \u001b[0;32mis\u001b[0m \u001b[0;32mnot\u001b[0m \u001b[0mNone\u001b[0m\u001b[0;34m:\u001b[0m\u001b[0;34m\u001b[0m\u001b[0m\n\u001b[1;32m    907\u001b[0m             \u001b[0mrois\u001b[0m\u001b[0;34m.\u001b[0m\u001b[0msave\u001b[0m\u001b[0;34m(\u001b[0m\u001b[0mjoin\u001b[0m\u001b[0;34m(\u001b[0m\u001b[0mself\u001b[0m\u001b[0;34m.\u001b[0m\u001b[0msavedir\u001b[0m\u001b[0;34m,\u001b[0m \u001b[0;34m'rois.pkl'\u001b[0m\u001b[0;34m)\u001b[0m\u001b[0;34m,\u001b[0m \u001b[0mlabel\u001b[0m\u001b[0;34m)\u001b[0m\u001b[0;34m\u001b[0m\u001b[0m\n",
      "\u001b[0;32m/home/julianarhee/.local/lib/python2.7/site-packages/sima/segment/segment.pyc\u001b[0m in \u001b[0;36msegment\u001b[0;34m(self, dataset)\u001b[0m\n\u001b[1;32m     44\u001b[0m             \u001b[0mA\u001b[0m \u001b[0mlist\u001b[0m \u001b[0mof\u001b[0m \u001b[0msima\u001b[0m\u001b[0;34m.\u001b[0m\u001b[0mROI\u001b[0m \u001b[0mROI\u001b[0m \u001b[0mobjects\u001b[0m\u001b[0;34m.\u001b[0m\u001b[0;34m\u001b[0m\u001b[0m\n\u001b[1;32m     45\u001b[0m         \"\"\"\n\u001b[0;32m---> 46\u001b[0;31m         \u001b[0mrois\u001b[0m \u001b[0;34m=\u001b[0m \u001b[0mself\u001b[0m\u001b[0;34m.\u001b[0m\u001b[0m_segment\u001b[0m\u001b[0;34m(\u001b[0m\u001b[0mdataset\u001b[0m\u001b[0;34m)\u001b[0m\u001b[0;34m\u001b[0m\u001b[0m\n\u001b[0m\u001b[1;32m     47\u001b[0m         \u001b[0;32mfor\u001b[0m \u001b[0mstep\u001b[0m \u001b[0;32min\u001b[0m \u001b[0mself\u001b[0m\u001b[0;34m.\u001b[0m\u001b[0m_post_processing_steps\u001b[0m\u001b[0;34m:\u001b[0m\u001b[0;34m\u001b[0m\u001b[0m\n\u001b[1;32m     48\u001b[0m             \u001b[0mrois\u001b[0m \u001b[0;34m=\u001b[0m \u001b[0mstep\u001b[0m\u001b[0;34m.\u001b[0m\u001b[0mapply\u001b[0m\u001b[0;34m(\u001b[0m\u001b[0mrois\u001b[0m\u001b[0;34m,\u001b[0m \u001b[0mdataset\u001b[0m\u001b[0;34m)\u001b[0m\u001b[0;34m\u001b[0m\u001b[0m\n",
      "\u001b[0;32m/home/julianarhee/.local/lib/python2.7/site-packages/sima/segment/segment.pyc\u001b[0m in \u001b[0;36mchecked_func\u001b[0;34m(self, dataset)\u001b[0m\n\u001b[1;32m     86\u001b[0m             raise ValueError('This segmentation strategy requires a '\n\u001b[1;32m     87\u001b[0m                              'dataset with exactly one plane.')\n\u001b[0;32m---> 88\u001b[0;31m         \u001b[0;32mreturn\u001b[0m \u001b[0mfunc\u001b[0m\u001b[0;34m(\u001b[0m\u001b[0mself\u001b[0m\u001b[0;34m,\u001b[0m \u001b[0mdataset\u001b[0m\u001b[0;34m)\u001b[0m\u001b[0;34m\u001b[0m\u001b[0m\n\u001b[0m\u001b[1;32m     89\u001b[0m     \u001b[0;32mreturn\u001b[0m \u001b[0mchecked_func\u001b[0m\u001b[0;34m\u001b[0m\u001b[0m\n\u001b[1;32m     90\u001b[0m \u001b[0;34m\u001b[0m\u001b[0m\n",
      "\u001b[0;32m/home/julianarhee/.local/lib/python2.7/site-packages/sima/segment/ca1pc.pyc\u001b[0m in \u001b[0;36m_segment\u001b[0;34m(self, dataset)\u001b[0m\n\u001b[1;32m    274\u001b[0m     \u001b[0;34m@\u001b[0m\u001b[0m_check_single_plane\u001b[0m\u001b[0;34m\u001b[0m\u001b[0m\n\u001b[1;32m    275\u001b[0m     \u001b[0;32mdef\u001b[0m \u001b[0m_segment\u001b[0m\u001b[0;34m(\u001b[0m\u001b[0mself\u001b[0m\u001b[0;34m,\u001b[0m \u001b[0mdataset\u001b[0m\u001b[0;34m)\u001b[0m\u001b[0;34m:\u001b[0m\u001b[0;34m\u001b[0m\u001b[0m\n\u001b[0;32m--> 276\u001b[0;31m         \u001b[0;32mreturn\u001b[0m \u001b[0mself\u001b[0m\u001b[0;34m.\u001b[0m\u001b[0m_normcut_method\u001b[0m\u001b[0;34m.\u001b[0m\u001b[0msegment\u001b[0m\u001b[0;34m(\u001b[0m\u001b[0mdataset\u001b[0m\u001b[0;34m)\u001b[0m\u001b[0;34m\u001b[0m\u001b[0m\n\u001b[0m",
      "\u001b[0;32m/home/julianarhee/.local/lib/python2.7/site-packages/sima/segment/segment.pyc\u001b[0m in \u001b[0;36msegment\u001b[0;34m(self, dataset)\u001b[0m\n\u001b[1;32m     44\u001b[0m             \u001b[0mA\u001b[0m \u001b[0mlist\u001b[0m \u001b[0mof\u001b[0m \u001b[0msima\u001b[0m\u001b[0;34m.\u001b[0m\u001b[0mROI\u001b[0m \u001b[0mROI\u001b[0m \u001b[0mobjects\u001b[0m\u001b[0;34m.\u001b[0m\u001b[0;34m\u001b[0m\u001b[0m\n\u001b[1;32m     45\u001b[0m         \"\"\"\n\u001b[0;32m---> 46\u001b[0;31m         \u001b[0mrois\u001b[0m \u001b[0;34m=\u001b[0m \u001b[0mself\u001b[0m\u001b[0;34m.\u001b[0m\u001b[0m_segment\u001b[0m\u001b[0;34m(\u001b[0m\u001b[0mdataset\u001b[0m\u001b[0;34m)\u001b[0m\u001b[0;34m\u001b[0m\u001b[0m\n\u001b[0m\u001b[1;32m     47\u001b[0m         \u001b[0;32mfor\u001b[0m \u001b[0mstep\u001b[0m \u001b[0;32min\u001b[0m \u001b[0mself\u001b[0m\u001b[0;34m.\u001b[0m\u001b[0m_post_processing_steps\u001b[0m\u001b[0;34m:\u001b[0m\u001b[0;34m\u001b[0m\u001b[0m\n\u001b[1;32m     48\u001b[0m             \u001b[0mrois\u001b[0m \u001b[0;34m=\u001b[0m \u001b[0mstep\u001b[0m\u001b[0;34m.\u001b[0m\u001b[0mapply\u001b[0m\u001b[0;34m(\u001b[0m\u001b[0mrois\u001b[0m\u001b[0;34m,\u001b[0m \u001b[0mdataset\u001b[0m\u001b[0;34m)\u001b[0m\u001b[0;34m\u001b[0m\u001b[0m\n",
      "\u001b[0;32m/home/julianarhee/.local/lib/python2.7/site-packages/sima/segment/segment.pyc\u001b[0m in \u001b[0;36mchecked_func\u001b[0;34m(self, dataset)\u001b[0m\n\u001b[1;32m     86\u001b[0m             raise ValueError('This segmentation strategy requires a '\n\u001b[1;32m     87\u001b[0m                              'dataset with exactly one plane.')\n\u001b[0;32m---> 88\u001b[0;31m         \u001b[0;32mreturn\u001b[0m \u001b[0mfunc\u001b[0m\u001b[0;34m(\u001b[0m\u001b[0mself\u001b[0m\u001b[0;34m,\u001b[0m \u001b[0mdataset\u001b[0m\u001b[0;34m)\u001b[0m\u001b[0;34m\u001b[0m\u001b[0m\n\u001b[0m\u001b[1;32m     89\u001b[0m     \u001b[0;32mreturn\u001b[0m \u001b[0mchecked_func\u001b[0m\u001b[0;34m\u001b[0m\u001b[0m\n\u001b[1;32m     90\u001b[0m \u001b[0;34m\u001b[0m\u001b[0m\n",
      "\u001b[0;32m/home/julianarhee/.local/lib/python2.7/site-packages/sima/segment/normcut.pyc\u001b[0m in \u001b[0;36m_segment\u001b[0;34m(self, dataset)\u001b[0m\n\u001b[1;32m    498\u001b[0m     \u001b[0;32mdef\u001b[0m \u001b[0m_segment\u001b[0m\u001b[0;34m(\u001b[0m\u001b[0mself\u001b[0m\u001b[0;34m,\u001b[0m \u001b[0mdataset\u001b[0m\u001b[0;34m)\u001b[0m\u001b[0;34m:\u001b[0m\u001b[0;34m\u001b[0m\u001b[0m\n\u001b[1;32m    499\u001b[0m         \u001b[0mparams\u001b[0m \u001b[0;34m=\u001b[0m \u001b[0mself\u001b[0m\u001b[0;34m.\u001b[0m\u001b[0m_params\u001b[0m\u001b[0;34m\u001b[0m\u001b[0m\n\u001b[0;32m--> 500\u001b[0;31m         \u001b[0maffinity\u001b[0m \u001b[0;34m=\u001b[0m \u001b[0mparams\u001b[0m\u001b[0;34m[\u001b[0m\u001b[0;34m'affinity_method'\u001b[0m\u001b[0;34m]\u001b[0m\u001b[0;34m.\u001b[0m\u001b[0mcalculate\u001b[0m\u001b[0;34m(\u001b[0m\u001b[0mdataset\u001b[0m\u001b[0;34m)\u001b[0m\u001b[0;34m\u001b[0m\u001b[0m\n\u001b[0m\u001b[1;32m    501\u001b[0m         \u001b[0mshape\u001b[0m \u001b[0;34m=\u001b[0m \u001b[0mdataset\u001b[0m\u001b[0;34m.\u001b[0m\u001b[0mframe_shape\u001b[0m\u001b[0;34m[\u001b[0m\u001b[0;36m1\u001b[0m\u001b[0;34m:\u001b[0m\u001b[0;36m3\u001b[0m\u001b[0;34m]\u001b[0m\u001b[0;34m\u001b[0m\u001b[0m\n\u001b[1;32m    502\u001b[0m         cuts = itercut(affinity, shape, params['cut_max_pen'],\n",
      "\u001b[0;32m/home/julianarhee/.local/lib/python2.7/site-packages/sima/segment/normcut.pyc\u001b[0m in \u001b[0;36mcalculate\u001b[0;34m(self, dataset)\u001b[0m\n\u001b[1;32m    404\u001b[0m \u001b[0;34m\u001b[0m\u001b[0m\n\u001b[1;32m    405\u001b[0m     \u001b[0;32mdef\u001b[0m \u001b[0mcalculate\u001b[0m\u001b[0;34m(\u001b[0m\u001b[0mself\u001b[0m\u001b[0;34m,\u001b[0m \u001b[0mdataset\u001b[0m\u001b[0;34m)\u001b[0m\u001b[0;34m:\u001b[0m\u001b[0;34m\u001b[0m\u001b[0m\n\u001b[0;32m--> 406\u001b[0;31m         \u001b[0mself\u001b[0m\u001b[0;34m.\u001b[0m\u001b[0m_setup\u001b[0m\u001b[0;34m(\u001b[0m\u001b[0mdataset\u001b[0m\u001b[0;34m)\u001b[0m\u001b[0;34m\u001b[0m\u001b[0m\n\u001b[0m\u001b[1;32m    407\u001b[0m         \u001b[0mmax_dist\u001b[0m \u001b[0;34m=\u001b[0m \u001b[0mself\u001b[0m\u001b[0;34m.\u001b[0m\u001b[0m_params\u001b[0m\u001b[0;34m[\u001b[0m\u001b[0;34m'max_dist'\u001b[0m\u001b[0;34m]\u001b[0m\u001b[0;34m\u001b[0m\u001b[0m\n\u001b[1;32m    408\u001b[0m         \u001b[0mshape\u001b[0m \u001b[0;34m=\u001b[0m \u001b[0mdataset\u001b[0m\u001b[0;34m.\u001b[0m\u001b[0mframe_shape\u001b[0m\u001b[0;34m[\u001b[0m\u001b[0;36m1\u001b[0m\u001b[0;34m:\u001b[0m\u001b[0;36m3\u001b[0m\u001b[0;34m]\u001b[0m\u001b[0;34m\u001b[0m\u001b[0m\n",
      "\u001b[0;32m/home/julianarhee/.local/lib/python2.7/site-packages/sima/segment/ca1pc.pyc\u001b[0m in \u001b[0;36m_setup\u001b[0;34m(self, dataset)\u001b[0m\n\u001b[1;32m    160\u001b[0m \u001b[0;34m\u001b[0m\u001b[0m\n\u001b[1;32m    161\u001b[0m     \u001b[0;32mdef\u001b[0m \u001b[0m_setup\u001b[0m\u001b[0;34m(\u001b[0m\u001b[0mself\u001b[0m\u001b[0;34m,\u001b[0m \u001b[0mdataset\u001b[0m\u001b[0;34m)\u001b[0m\u001b[0;34m:\u001b[0m\u001b[0;34m\u001b[0m\u001b[0m\n\u001b[0;32m--> 162\u001b[0;31m         \u001b[0msuper\u001b[0m\u001b[0;34m(\u001b[0m\u001b[0mAffinityMatrixCA1PC\u001b[0m\u001b[0;34m,\u001b[0m \u001b[0mself\u001b[0m\u001b[0;34m)\u001b[0m\u001b[0;34m.\u001b[0m\u001b[0m_setup\u001b[0m\u001b[0;34m(\u001b[0m\u001b[0mdataset\u001b[0m\u001b[0;34m)\u001b[0m\u001b[0;34m\u001b[0m\u001b[0m\n\u001b[0m\u001b[1;32m    163\u001b[0m         channel = sima.misc.resolve_channels(self._params['channel'],\n\u001b[1;32m    164\u001b[0m                                              dataset.channel_names)\n",
      "\u001b[0;32m/home/julianarhee/.local/lib/python2.7/site-packages/sima/segment/normcut.pyc\u001b[0m in \u001b[0;36m_setup\u001b[0;34m(self, dataset)\u001b[0m\n\u001b[1;32m    401\u001b[0m \u001b[0;34m\u001b[0m\u001b[0m\n\u001b[1;32m    402\u001b[0m     \u001b[0;32mdef\u001b[0m \u001b[0m_setup\u001b[0m\u001b[0;34m(\u001b[0m\u001b[0mself\u001b[0m\u001b[0;34m,\u001b[0m \u001b[0mdataset\u001b[0m\u001b[0;34m)\u001b[0m\u001b[0;34m:\u001b[0m\u001b[0;34m\u001b[0m\u001b[0m\n\u001b[0;32m--> 403\u001b[0;31m         \u001b[0mself\u001b[0m\u001b[0;34m.\u001b[0m\u001b[0m_correlations\u001b[0m \u001b[0;34m=\u001b[0m \u001b[0mself\u001b[0m\u001b[0;34m.\u001b[0m\u001b[0m_calculate_correlations\u001b[0m\u001b[0;34m(\u001b[0m\u001b[0mdataset\u001b[0m\u001b[0;34m)\u001b[0m\u001b[0;34m\u001b[0m\u001b[0m\n\u001b[0m\u001b[1;32m    404\u001b[0m \u001b[0;34m\u001b[0m\u001b[0m\n\u001b[1;32m    405\u001b[0m     \u001b[0;32mdef\u001b[0m \u001b[0mcalculate\u001b[0m\u001b[0;34m(\u001b[0m\u001b[0mself\u001b[0m\u001b[0;34m,\u001b[0m \u001b[0mdataset\u001b[0m\u001b[0;34m)\u001b[0m\u001b[0;34m:\u001b[0m\u001b[0;34m\u001b[0m\u001b[0m\n",
      "\u001b[0;32m/home/julianarhee/.local/lib/python2.7/site-packages/sima/segment/normcut.pyc\u001b[0m in \u001b[0;36m_calculate_correlations\u001b[0;34m(self, dataset)\u001b[0m\n\u001b[1;32m    388\u001b[0m                             np.reshape([y, x, y + dy, x + dx], (1, 4)))\n\u001b[1;32m    389\u001b[0m         channel = sima.misc.resolve_channels(self._params['channel'],\n\u001b[0;32m--> 390\u001b[0;31m                                              dataset.channel_names)\n\u001b[0m\u001b[1;32m    391\u001b[0m         return _offset_corrs(\n\u001b[1;32m    392\u001b[0m             \u001b[0mdataset\u001b[0m\u001b[0;34m,\u001b[0m \u001b[0mnp\u001b[0m\u001b[0;34m.\u001b[0m\u001b[0mconcatenate\u001b[0m\u001b[0;34m(\u001b[0m\u001b[0mpairs\u001b[0m\u001b[0;34m,\u001b[0m \u001b[0;36m0\u001b[0m\u001b[0;34m)\u001b[0m\u001b[0;34m,\u001b[0m \u001b[0mchannel\u001b[0m\u001b[0;34m,\u001b[0m\u001b[0;34m\u001b[0m\u001b[0m\n",
      "\u001b[0;32m/home/julianarhee/.local/lib/python2.7/site-packages/sima/misc/__init__.pyc\u001b[0m in \u001b[0;36mresolve_channels\u001b[0;34m(chan, channel_names, num_channels)\u001b[0m\n\u001b[1;32m     98\u001b[0m             \u001b[0;32mreturn\u001b[0m \u001b[0mchannel_names\u001b[0m\u001b[0;34m.\u001b[0m\u001b[0mindex\u001b[0m\u001b[0;34m(\u001b[0m\u001b[0mchan\u001b[0m\u001b[0;34m)\u001b[0m\u001b[0;34m\u001b[0m\u001b[0m\n\u001b[1;32m     99\u001b[0m         \u001b[0;32mexcept\u001b[0m \u001b[0mValueError\u001b[0m\u001b[0;34m:\u001b[0m\u001b[0;34m\u001b[0m\u001b[0m\n\u001b[0;32m--> 100\u001b[0;31m             \u001b[0;32mraise\u001b[0m \u001b[0mValueError\u001b[0m\u001b[0;34m(\u001b[0m\u001b[0;34m'No channel exists with the specified name.'\u001b[0m\u001b[0;34m)\u001b[0m\u001b[0;34m\u001b[0m\u001b[0m\n\u001b[0m\u001b[1;32m    101\u001b[0m \u001b[0;34m\u001b[0m\u001b[0m\n\u001b[1;32m    102\u001b[0m \u001b[0;34m\u001b[0m\u001b[0m\n",
      "\u001b[0;31mValueError\u001b[0m: No channel exists with the specified name."
     ]
    }
   ],
   "source": [
    "##############################################################################\n",
    "#                                                                            #\n",
    "#   PART 3: Running automated segmentation and editing results with the ROI  #\n",
    "#           Buddy GUI.                                                       #\n",
    "#                                                                            #\n",
    "##############################################################################\n",
    "\n",
    "# Segment the field of view into ROIs using the method for CA1 pyramidal cells\n",
    "# and parameters that were determined based on the imaging magnification.\n",
    "segmentation_approach = sima.segment.PlaneCA1PC(\n",
    "    channel='GCaMP',\n",
    "    num_pcs=30,\n",
    "    max_dist=(3, 6),\n",
    "    spatial_decay=(3, 6),\n",
    "    cut_max_pen=0.10,\n",
    "    cut_min_size=50,\n",
    "    cut_max_size=150,\n",
    "    x_diameter=14,\n",
    "    y_diameter=7,\n",
    "    circularity_threhold=.5,\n",
    "    min_roi_size=20,\n",
    "    min_cut_size=40\n",
    ")\n",
    "\n",
    "print(\"Running auto-segmentation.\")\n",
    "dataset.segment(segmentation_approach, 'auto_ROIs')\n",
    "\n",
    "# At this point, one may wish to edit the automatically segmented ROIs using\n",
    "# the ROI Buddy GUI before performing signal extraction.\n",
    "while True:\n",
    "    input_ = input(\"Continue? (y/n): \")\n",
    "    if input_ == 'n':\n",
    "        exit()\n",
    "    elif input_ == 'y':\n",
    "        break\n"
   ]
  },
  {
   "cell_type": "code",
   "execution_count": null,
   "metadata": {
    "collapsed": true
   },
   "outputs": [],
   "source": [
    "##############################################################################\n",
    "#                                                                            #\n",
    "#   PART 4: Extracting fluorescence signals from the ROIs.                   #\n",
    "#                                                                            #\n",
    "##############################################################################\n",
    "\n",
    "# Reload the dataset in case any changes have been made with ROI Buddy\n",
    "dataset = sima.ImagingDataset.load(dataset_path)\n",
    "\n",
    "# Extract the signals. By default, the most recently created ROIs are used.\n",
    "print(\"Extracting signals.\")\n",
    "dataset.extract(signal_channel='GCaMP', label='GCaMP_signals')\n",
    "\n",
    "# Export the extracted signals to a CSV file.\n",
    "print(\"Exporting GCaMP time series.\")\n",
    "dataset.export_signals('example_signals.csv', channel='GCaMP',\n",
    "                       signals_label='GCaMP_signals')\n"
   ]
  },
  {
   "cell_type": "code",
   "execution_count": null,
   "metadata": {
    "collapsed": true
   },
   "outputs": [],
   "source": [
    "##############################################################################\n",
    "#                                                                            #\n",
    "#   PART 5: Visualizing data using Python.                                   #\n",
    "#                                                                            #\n",
    "##############################################################################\n",
    "\n",
    "# import necessary functions from matplotlib\n",
    "from matplotlib.pyplot import plot, show\n",
    "\n",
    "# plot the signal from an ROI object, with a different color for each cycle\n",
    "print(\"Displaying example calcium trace.\")\n",
    "raw_signals = dataset.signals('GCaMP')['GCaMP_signals']['raw']\n",
    "for sequence in range(3):  # plot data from the first 3 cycles\n",
    "    plot(raw_signals[sequence][3])  # plot the data from ROI #3\n",
    "show(block=True)"
   ]
  }
 ],
 "metadata": {
  "kernelspec": {
   "display_name": "Python 2",
   "language": "python",
   "name": "python2"
  },
  "language_info": {
   "codemirror_mode": {
    "name": "ipython",
    "version": 2
   },
   "file_extension": ".py",
   "mimetype": "text/x-python",
   "name": "python",
   "nbconvert_exporter": "python",
   "pygments_lexer": "ipython2",
   "version": "2.7.13"
  }
 },
 "nbformat": 4,
 "nbformat_minor": 2
}
