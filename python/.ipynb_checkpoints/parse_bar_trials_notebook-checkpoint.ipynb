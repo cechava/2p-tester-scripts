{
 "cells": [
  {
   "cell_type": "code",
   "execution_count": 1,
   "metadata": {
    "collapsed": true
   },
   "outputs": [],
   "source": [
    "import numpy as np\n",
    "import os\n",
    "from scipy.misc import imread\n",
    "import cPickle as pkl\n",
    "import scipy.signal\n",
    "import numpy.fft as fft\n",
    "import sys\n",
    "import optparse\n",
    "from PIL import Image\n",
    "import re\n",
    "import itertools\n",
    "from scipy import ndimage\n",
    "\n",
    "import time\n",
    "import datetime\n",
    "\n",
    "import pandas as pd\n",
    "\n",
    "from bokeh.io import gridplot, output_file, show\n",
    "from bokeh.plotting import figure\n",
    "import csv\n",
    "\n",
    "import pymworks \n",
    "import pandas as pd\n",
    "import operator\n",
    "import codecs\n",
    "\n",
    "import scipy.io\n",
    "import copy# Abstract struct class       \n",
    "class Struct:\n",
    "    def __init__ (self, *argv, **argd):\n",
    "        if len(argd):\n",
    "            # Update by dictionary\n",
    "            self.__dict__.update (argd)\n",
    "        else:\n",
    "            # Update by position\n",
    "            attrs = filter (lambda x: x[0:2] != \"__\", dir(self))\n",
    "            for n in range(len(argv)):\n",
    "                setattr(self, attrs[n], argv[n])\n",
    "\n",
    "\n",
    "class cycstruct(Struct):\n",
    "    times = []\n",
    "    idxs = 0\n",
    "    vals = 0\n",
    "    ordernum = 0\n",
    "    triggers = 0\n"
   ]
  },
  {
   "cell_type": "code",
   "execution_count": 2,
   "metadata": {},
   "outputs": [
    {
     "name": "stdout",
     "output_type": "stream",
     "text": [
      "MW file:  ['/Users/julianarhee/nas/volume1/2photon/RESDATA/20170724_CE051/retinotopy1/mw_data/20170724_CE051W_bar_run1.mwk']\n"
     ]
    }
   ],
   "source": [
    "from parse_mw_events import get_bar_events"
   ]
  },
  {
   "cell_type": "code",
   "execution_count": 3,
   "metadata": {
    "collapsed": true
   },
   "outputs": [],
   "source": [
    "prepend = '/Users/julianarhee'\n",
    "source_dir = os.path.join(prepend,'nas/volume1/2photon/RESDATA/20170724_CE051/retinotopy1') #options.source_dir #'/nas/volume1/2photon/RESDATA/TEFO/20160118_AG33/fov1_gratings1'\n",
    "stimtype = 'bar' #options.stimtype #'grating'\n",
    "mask = False #options.mask # False\n",
    "long_trials = False #options.long_trials #True\n",
    "no_ard = False #options.no_ard\n",
    "\n",
    "# Look in child dir (of source_dir) to find mw_data paths:\n",
    "mw_files = os.listdir(os.path.join(source_dir, 'mw_data'))\n",
    "mw_files = [m for m in mw_files if m.endswith('.mwk')]\n"
   ]
  },
  {
   "cell_type": "code",
   "execution_count": 4,
   "metadata": {},
   "outputs": [
    {
     "name": "stdout",
     "output_type": "stream",
     "text": [
      "MW file:  ['/Users/julianarhee/nas/volume1/2photon/RESDATA/20170724_CE051/retinotopy1/mw_data/20170724_CE051W_bar_run1.mwk']\n"
     ]
    }
   ],
   "source": [
    "mwfile = mw_files[0]\n",
    "\n",
    "fn_base = mwfile[:-4]\n",
    "mw_data_dir = os.path.join(source_dir, 'mw_data')\n",
    "mw_fn = fn_base+'.mwk'\n",
    "dfn = os.path.join(mw_data_dir, mw_fn)\n",
    "dfns = [dfn]\n",
    "\n",
    "print \"MW file: \", dfns"
   ]
  },
  {
   "cell_type": "code",
   "execution_count": 36,
   "metadata": {
    "scrolled": true
   },
   "outputs": [
    {
     "name": "stdout",
     "output_type": "stream",
     "text": [
      "****************************************************************\n",
      "Parsing file\n",
      "/Users/julianarhee/nas/volume1/2photon/RESDATA/20170724_CE051/retinotopy1/mw_data/20170724_CE051W_bar_run1.mwk... \n",
      "Found 1 start events in session.\n",
      "Bounds:  [[1145373500909, 1145918985978]]\n",
      "bound ID: 0 545.485069 sec\n",
      "****************************************************************\n",
      "................................................................\n",
      "SECTION 0\n",
      "................................................................\n",
      "Found > 1 name for frame-trigger:\n",
      "Choose:  ['frame_trigger_timeout', 'frame_trigger_on', 'trigger_received', 'trigger_active', 'frame_trigger']\n",
      "Hint: RSVP could be FrameTrigger, otherwise frame_trigger.\n",
      "Type var name to use: frame_trigger\n",
      "first on event:  Event[code=39, name=frame_trigger, time=1145405071045, value=0]\n",
      "first off event:  Event[code=39, name=frame_trigger, time=1145479478958, value=1]\n",
      "Duration of first run: 74.4079 sec.\n",
      "4\n",
      "6\n",
      "8\n",
      "10\n",
      "12\n",
      "Got to STOP.\n",
      "........................................................................................\n",
      "Found 6 chunks from frame-on/-off triggers:\n",
      "........................................................................................\n",
      "0 :  74.407913\n",
      "1 :  74.416028\n",
      "2 :  74.432081\n",
      "3 :  74.447983\n",
      "4 :  1.831974\n",
      "5 :  0.031941\n",
      "........................................................................................\n",
      "Select indices [EX: 0,1,2,4] of runs to include, or press <enter> to accept all:\n",
      "0,1,2,3\n",
      "Selected 4 runs.\n",
      "Press <enter> to accept. Press 'r' to re-try.\n",
      "N pix-evs found in boundary: 20327\n",
      "Got 17760 pix code events for current session.\n",
      "Run 0 :  right\n",
      "Run 1 :  top\n",
      "Run 2 :  top\n",
      "Run 3 :  right\n",
      "Target frequency: 0.27 Hz, 20 cycles.\n",
      "Expected run duration: ~74.07 seconds.\n",
      "Found 4 runs.\n",
      "Run 0: 73.99 s.\n",
      "Run 1: 73.98 s.\n",
      "Run 2: 73.99 s.\n",
      "Run 3: 73.98 s.\n"
     ]
    }
   ],
   "source": [
    "# Get MW events:\n",
    "if stimtype=='bar':\n",
    "    pixelevents, stimevents, trigger_times, session_info = get_bar_events(dfns)\n",
    "else:\n",
    "    pixelevents, stimevents, trialevents, trigger_times, session_info = get_stimulus_events(dfns, stimtype=stimtype)\n",
    "\n",
    "    "
   ]
  },
  {
   "cell_type": "code",
   "execution_count": 37,
   "metadata": {},
   "outputs": [
    {
     "name": "stdout",
     "output_type": "stream",
     "text": [
      "Found 17760 pixel clock events.\n"
     ]
    }
   ],
   "source": [
    "# Make sure only 1 \"chunk\" of pixelevents are found for the session:\n",
    "if len(pixelevents) > 1:\n",
    "    pixelevents = [item for sublist in pixelevents for item in sublist]\n",
    "    pixelevents = list(set(pixelevents))\n",
    "    pixelevents.sort(key=operator.itemgetter(1))\n",
    "else:\n",
    "    pixelevents = pixelevents[0]\n",
    "print \"Found %i pixel clock events.\" % len(pixelevents)"
   ]
  },
  {
   "cell_type": "code",
   "execution_count": 42,
   "metadata": {},
   "outputs": [],
   "source": [
    "# Check that all possible pixel vals are used (otherwise, pix-clock may be missing input):\n",
    "# pixelevents[0].value[-1]['bit_code']\n",
    "n_codes = set([i.value[-1]['bit_code'] for i in pixelevents])\n",
    "if len(n_codes)<16:\n",
    "    print \"Check pixel clock -- missing bit values...\"\n"
   ]
  },
  {
   "cell_type": "code",
   "execution_count": 43,
   "metadata": {},
   "outputs": [
    {
     "name": "stdout",
     "output_type": "stream",
     "text": [
      "Expected 17778 pixel events, missing 18 pevs.\n",
      "Found 4 conditions, corresponding to 4 TIFFs.\n"
     ]
    }
   ],
   "source": [
    "# Creat trial-dicts for each trial in run, in format for NDA database:\n",
    "if stimtype=='bar':\n",
    "    nexpected_pixelevents = int(round((1/session_info['target_freq']) * session_info['ncycles'] * 60 * len(trigger_times)))\n",
    "    print \"Expected %i pixel events, missing %i pevs.\" % (nexpected_pixelevents, nexpected_pixelevents-len(pixelevents))\n",
    "    # on FLASH protocols, first real iamge event is 41\n",
    "    print \"Found %i conditions, corresponding to %i TIFFs.\" % (len(stimevents), len(trigger_times))\n",
    "\n",
    "    stimnames = ['left', 'right', 'top', 'bottom']\n",
    "\n",
    "    # GET TRIAL INFO FOR DB:\n",
    "    trial_list = [(stimevents[k].ordernum, k) for k in stimevents.keys()]\n",
    "    trial_list.sort(key=lambda x: x[0]) \n",
    "    trial = dict((i+1, dict()) for i in range(len(stimevents)))\n",
    "\n",
    "    for trialidx,mvtrial in enumerate(trial_list):\n",
    "        mvname = mvtrial[1]\n",
    "        trialnum = trialidx + 1\n",
    "        trial[trialnum]['start_time_ms'] = round(stimevents[mvname].states[0][0]/1E3)\n",
    "        trial[trialnum]['end_time_ms'] = round(stimevents[mvname].states[-1][0]/1E3)\n",
    "        stimname = [i for i in stimnames if i in mvname][0]\n",
    "        stimsize = session_info['target_freq']\n",
    "        trial[trialnum]['stimuli'] = {'stimulus': stimname, 'position': stimevents[mvname].states[0][1], 'scale': stimsize}\n",
    "        trial[trialnum]['stim_on_times'] = round(stimevents[mvname].states[0][0]/1E3)\n",
    "        trial[trialnum]['stim_off_times'] = round(stimevents[mvname].states[-1][0]/1E3)\n",
    "else:\n",
    "    ievs = ievs[0]\n",
    "    print \"Found %i image trials.\" % len(stimevents)\n",
    "\n",
    "    print \"Found %i stimulus update events across trials.\" % len(trialevents)\n",
    "    print \"Expecting %i TIFFs.\" % len(trigger_times)\n",
    "\n",
    "    # GET TRIAL INFO FOR DB:\n",
    "    trial = dict((i+1, dict()) for i in range(len(stimevents)))\n",
    "    stimevents = sorted(stimevents, key=get_timekey)\n",
    "    trialevents = sorted(trialevents, key=get_timekey)\n",
    "    run_start_time = trialevents[0].time\n",
    "    for trialidx,stimevent in enumerate(sorted(stimevents, key=get_timekey)):\n",
    "        trialnum = trialidx + 1\n",
    "        blankidx = trialidx*2 + 1\n",
    "        trial[trialnum]['start_time_ms'] = round(stimevent.time/1E3)\n",
    "        trial[trialnum]['end_time_ms'] = round((trialevents[blankidx].time + session_info['ITI'])/1E3)\n",
    "        if stimtype=='grating':\n",
    "            ori = stimevent.value[1]['rotation']\n",
    "            sf = round(stimevent.value[1]['frequency'], 2)\n",
    "            stimname = 'grating-ori-%i-sf-%f' % (ori, sf)\n",
    "            stimpos = [stimevent.value[1]['xoffset'], stimevent.value[1]['yoffset']]\n",
    "#         else:\n",
    "#             stimname = ''\n",
    "#             stimpos = ''\n",
    "        stimsize = stimevent.value[1]['height']\n",
    "        trial[trialnum]['stimuli'] = {'stimulus': stimname, 'position': stimpos, 'scale': stimsize}\n",
    "        trial[trialnum]['stim_on_times'] = round((stimevent.time - run_start_time)/1E3)\n",
    "        trial[trialnum]['stim_off_times'] = round((trialevents[blankidx].time - run_start_time)/1E3)\n"
   ]
  },
  {
   "cell_type": "code",
   "execution_count": 44,
   "metadata": {},
   "outputs": [
    {
     "name": "stdout",
     "output_type": "stream",
     "text": [
      "Format trial 1:  {'stim_off_times': 1145479084.0, 'stimuli': {'stimulus': 'right', 'position': (45.286888122558594, 0.0), 'scale': 0.27}, 'stim_on_times': 1145405099.0, 'start_time_ms': 1145405099.0, 'end_time_ms': 1145479084.0}\n"
     ]
    }
   ],
   "source": [
    "print \"Format trial 1: \", trial[1]\n",
    "# save trial info as pkl for easyloading: \n",
    "trialinfo_fn = 'trial_info.pkl'\n",
    "with open(os.path.join(source_dir, 'mw_data', trialinfo_fn), 'wb') as f:\n",
    "    pkl.dump(trial, f, protocol=pkl.HIGHEST_PROTOCOL)\n",
    "    f.close()\n"
   ]
  },
  {
   "cell_type": "code",
   "execution_count": 45,
   "metadata": {},
   "outputs": [
    {
     "name": "stdout",
     "output_type": "stream",
     "text": [
      "Each chunk duration is:  [74.407913, 74.416028, 74.432081, 74.447983]\n"
     ]
    }
   ],
   "source": [
    "# May need to fix this:\n",
    "print \"Each chunk duration is: \", [(t[1] - t[0])/1E6 for t in trigger_times]\n"
   ]
  },
  {
   "cell_type": "code",
   "execution_count": 56,
   "metadata": {},
   "outputs": [
    {
     "name": "stdout",
     "output_type": "stream",
     "text": [
      "Offset between first MW stimulus-display-update event and first SI frame-trigger:\n",
      "run 1: 21.702 ms\n",
      "run 2: 28.392 ms\n",
      "run 3: 21.175 ms\n",
      "run 4: 33.443 ms\n"
     ]
    }
   ],
   "source": [
    "# Create \"pydict\" to store all MW stimulus/trial info in matlab-accessible format for GUI:\n",
    "if stimtype=='bar':\n",
    "    pydict = dict()\n",
    "    print \"Offset between first MW stimulus-display-update event and first SI frame-trigger:\"\n",
    "    for ridx,run in enumerate(stimevents.keys()):\n",
    "        pydict[run] ={'time': [i[0] for i in stimevents[run].times],\\\n",
    "                    'pos': stimevents[run].vals,\\\n",
    "                    'idxs': stimevents[run].idxs,\\\n",
    "                    'ordernum': stimevents[run].ordernum,\\\n",
    "                    'MWdur': (stimevents[run].states[-1][0] - stimevents[run].states[0][0]) / 1E6,\\\n",
    "                    'offset': stimevents[run].states[0][0] - stimevents[run].triggers[0],\\\n",
    "                    'MWtriggertimes': stimevents[run].triggers}\n",
    "        print \"run %i: %s ms\" % (ridx+1, str(pydict[run]['offset']/1E3))\n",
    "elif stimtype == 'image':\n",
    "    # do stuff\n",
    "    pass\n",
    "elif stimtype == 'grating':\n",
    "    # do other stuff\n",
    "    pass"
   ]
  },
  {
   "cell_type": "code",
   "execution_count": null,
   "metadata": {
    "collapsed": true
   },
   "outputs": [],
   "source": []
  }
 ],
 "metadata": {
  "kernelspec": {
   "display_name": "Python 2",
   "language": "python",
   "name": "python2"
  },
  "language_info": {
   "codemirror_mode": {
    "name": "ipython",
    "version": 2
   },
   "file_extension": ".py",
   "mimetype": "text/x-python",
   "name": "python",
   "nbconvert_exporter": "python",
   "pygments_lexer": "ipython2",
   "version": "2.7.13"
  }
 },
 "nbformat": 4,
 "nbformat_minor": 2
}
